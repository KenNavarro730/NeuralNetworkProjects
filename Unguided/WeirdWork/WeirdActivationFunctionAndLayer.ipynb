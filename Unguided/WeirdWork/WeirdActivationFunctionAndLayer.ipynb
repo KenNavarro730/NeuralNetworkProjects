{
  "nbformat": 4,
  "nbformat_minor": 0,
  "metadata": {
    "colab": {
      "name": "WeirdActivationFunctionAndLayer.ipynb",
      "provenance": []
    },
    "kernelspec": {
      "name": "python3",
      "display_name": "Python 3"
    },
    "language_info": {
      "name": "python"
    }
  },
  "cells": [
    {
      "cell_type": "markdown",
      "source": [
        "The point of me doing this is so that it is clear that I am comfortable working with tensorflow and any variation of a layer a research team may need me to implement for a particular solution. My next work will be making a weird transformer! That work will be a lot more complex and long but should be cool enough haha"
      ],
      "metadata": {
        "id": "Aae7C67JbDfB"
      }
    },
    {
      "cell_type": "code",
      "execution_count": 1,
      "metadata": {
        "id": "zuNWiRv6ZBuo"
      },
      "outputs": [],
      "source": [
        "import tensorflow as tf \n",
        "class SoftmaxingRELUandSigmoidPlusFeedForwardLayer(tf.keras.layers.Layer):\n",
        "  def __init__(self, units=32):\n",
        "    self.units = units\n",
        "  def build(self, input_shape, training=True):\n",
        "    w_init_type = tf.random_normal_initializer()\n",
        "    self.w = tf.Variable(initial_value = w_init_type(shape=(input_shape, self.units), dtype='float32'), training = training)\n",
        "    b_init_type = tf.zeros_initializer()\n",
        "    self.b = tf.Variable(initial_value = b_init_type(shape=(self.units, ), dtype = 'float32'), training = training)\n",
        "    self.dense = tf.keras.layers.Dense(units)\n",
        "  def call(self, inputtedval):\n",
        "    relu_output = tf.math.maximum(tf.matmul(self.w*inputtedval) + self.b, 0)\n",
        "    Sigmoid_output = tf.math.sigmoid(tf.matmul(self.w*inputtedval) + self.b)\n",
        "    Softmax_out = tf.nn.softmax(relu_output + Sigmoid_output)\n",
        "    return self.dense(Softmax_out)"
      ]
    }
  ]
}