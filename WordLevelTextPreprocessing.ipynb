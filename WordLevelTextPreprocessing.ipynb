{
  "nbformat": 4,
  "nbformat_minor": 0,
  "metadata": {
    "colab": {
      "name": "WordLevelTextPreprocessing.ipynb",
      "provenance": []
    },
    "kernelspec": {
      "name": "python3",
      "display_name": "Python 3"
    },
    "language_info": {
      "name": "python"
    },
    "accelerator": "GPU"
  },
  "cells": [
    {
      "cell_type": "code",
      "source": [
        "!curl -O https://s3.amazonaws.com/text-datasets/nietzsche.txt"
      ],
      "metadata": {
        "colab": {
          "base_uri": "https://localhost:8080/"
        },
        "id": "HYtPybWgIs-f",
        "outputId": "a4d3a024-ece5-4564-f7a5-a60ae9989a95"
      },
      "execution_count": null,
      "outputs": [
        {
          "output_type": "stream",
          "name": "stdout",
          "text": [
            "  % Total    % Received % Xferd  Average Speed   Time    Time     Time  Current\n",
            "                                 Dload  Upload   Total   Spent    Left  Speed\n",
            "\r  0     0    0     0    0     0      0      0 --:--:-- --:--:-- --:--:--     0\r100  586k  100  586k    0     0  2596k      0 --:--:-- --:--:-- --:--:-- 2596k\n"
          ]
        }
      ]
    },
    {
      "cell_type": "code",
      "execution_count": null,
      "metadata": {
        "id": "QNdfIUY5IAg_"
      },
      "outputs": [],
      "source": [
        "import tensorflow as tf \n",
        "import numpy as np \n",
        "input_sequence_size = 4\n",
        "max_features = 54762\n",
        "batch_size = 128\n",
        "AUTOTUNE = tf.data.AUTOTUNE\n",
        "def convert_string(X: tf.Tensor):\n",
        "  str1 = \"\"\n",
        "  for elem in X:\n",
        "    str1 += elem.numpy().decode(\"utf-8\") + \"\"\n",
        "  str1 = tf.convert_to_tensor(str1[:-1])\n",
        "  return str1\n",
        "def _fixup_shape(x, y):\n",
        "  x.set_shape([4])\n",
        "  y.set_shape([1])\n",
        "  return x,y\n",
        "raw_data_ds = tf.data.TextLineDataset(['nietzsche.txt'])\n",
        "raw_data_ds = raw_data_ds.map(lambda x: tf.strings.split(x))\n",
        "raw_data_ds = raw_data_ds.flat_map(lambda x: tf.data.Dataset.from_tensor_slices(x))\n",
        "sequence_data_ds = raw_data_ds.window(input_sequence_size+1, drop_remainder=True)\n",
        "sequence_data_ds = sequence_data_ds.flat_map(lambda x: x.batch(5))\n",
        "sequence_data_ds = sequence_data_ds.map(lambda x: (x[:-1], x[-1:]))\n",
        "X_train_ds = sequence_data_ds.map(lambda x,y: x)\n",
        "Y_train_ds = sequence_data_ds.map(lambda x,y: y)\n",
        "X_train_ds = X_train_ds.map(lambda x: tf.py_function(func = convert_string, inp = [x], Tout = tf.string))\n",
        "X_train_ds = X_train_ds.map(lambda x: tf.reshape(x,[1]))\n",
        "vectorize_layer = tf.keras.layers.TextVectorization(\n",
        "    max_tokens = max_features,\n",
        "    output_mode = \"int\",\n",
        "    output_sequence_length = input_sequence_size\n",
        ")\n",
        "vectorize_layer.adapt(X_train_ds)"
      ]
    },
    {
      "cell_type": "code",
      "source": [
        "def vectorize_text(text):\n",
        "  text = tf.expand_dims(text, -1)\n",
        "  return tf.squeeze(vectorize_layer(text))\n",
        "X_train_ds = X_train_ds.map(vectorize_text)\n",
        "Y_train_ds = Y_train_ds.map(vectorize_text)\n",
        "Y_train_ds = Y_train_ds.map(lambda x: x[0])\n",
        "train_ds = tf.data.Dataset.zip((X_train_ds, Y_train_ds))\n",
        "train_ds = train_ds.map(_fixup_shape)\n",
        "train_ds = train_ds.shuffle(buffer_size=512).batch(batch_size, drop_remainder=True).cache().prefetch(buffer_size=AUTOTUNE)"
      ],
      "metadata": {
        "id": "nswL6FQnLgTt"
      },
      "execution_count": null,
      "outputs": []
    },
    {
      "cell_type": "code",
      "source": [
        "train_ds.take(1) \n",
        "train_ds.element_spec"
      ],
      "metadata": {
        "colab": {
          "base_uri": "https://localhost:8080/"
        },
        "id": "Q2HMg-LfMAHW",
        "outputId": "d66fc2cf-dc8d-4d6a-86ab-0cf8f15a5c61"
      },
      "execution_count": null,
      "outputs": [
        {
          "output_type": "execute_result",
          "data": {
            "text/plain": [
              "(TensorSpec(shape=(128, 4), dtype=tf.int64, name=None),\n",
              " TensorSpec(shape=(128, 1), dtype=tf.int64, name=None))"
            ]
          },
          "metadata": {},
          "execution_count": 8
        }
      ]
    },
    {
      "cell_type": "code",
      "source": [
        ""
      ],
      "metadata": {
        "id": "_VtL4lGwMB5m"
      },
      "execution_count": null,
      "outputs": []
    }
  ]
}