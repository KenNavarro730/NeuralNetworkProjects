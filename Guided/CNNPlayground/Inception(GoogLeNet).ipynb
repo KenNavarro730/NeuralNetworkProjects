{
  "nbformat": 4,
  "nbformat_minor": 0,
  "metadata": {
    "colab": {
      "name": "Inception(GoogLeNet).ipynb",
      "provenance": [],
      "collapsed_sections": []
    },
    "kernelspec": {
      "name": "python3",
      "display_name": "Python 3"
    },
    "language_info": {
      "name": "python"
    }
  },
  "cells": [
    {
      "cell_type": "markdown",
      "source": [
        "To implement the googLeNet architecture, we need to make an inception function that acts as an inception block, this is will make it a lot easier for us to employ any model that requires inception block in it(GoogLeNet) is one of them.\n"
      ],
      "metadata": {
        "id": "moj6FvZX2G0c"
      }
    },
    {
      "cell_type": "code",
      "source": [
        "import tensorflow as tf\n",
        "from tensorflow import keras  \n",
        "class Inception(tf.keras.Model):\n",
        "  def __init__(self, c1, c2, c3,c4):\n",
        "    super().__init__()\n",
        "    #Path 1 is a single convolution layer\n",
        "    self.p1_1 = keras.layers.Conv2D(c1, 1, activation = 'relu')\n",
        "    #Path 2 is a 1x1 convolution followed by a 3x3 convolution\n",
        "    self.p2_1 = keras.layers.Conv2D(c2[0], 1, activation = 'relu')\n",
        "    self.p2_2 = keras.layers.Conv2D(c2[1], 1, padding = 'SAME', activation = 'relu')\n",
        "    self.p3_1 = keras.layers.Conv2D(c3[0], 1, activation = 'relu')\n",
        "    self.p3_2 = keras.layers.Conv2D(c3[1], 5, padding = 'SAME', activation = 'relu')\n",
        "    self.p4_1 = keras.layers.MaxPool2D(3, 1, padding = 'SAME')\n",
        "    self.p4_2 = keras.layers.Conv2D(c4, 1, activation = 'relu')\n",
        "  def call(self,x):\n",
        "    p1 = self.p1_1(x)\n",
        "    p2 = self.p2_2(self.p2_1(x))\n",
        "    p3 = self.p3_2(self.p3_1(x))\n",
        "    p4 = self.p4_2(self.p4_1(x))\n",
        "  #Self means that when we call a new variable to equal this class instance, it will be directly associated with each of these values after we give it the proper inputs for the constructor.\n",
        "    return keras.layers.Concatenate()([p1, p2, p3, p4])"
      ],
      "metadata": {
        "id": "0XZ3Gm6B2Rif"
      },
      "execution_count": null,
      "outputs": []
    },
    {
      "cell_type": "markdown",
      "source": [
        "Note that in the above architecture, although we have variables for c1-c4, all they are defining is the number of convolution filters we use in this block, however to make it more intuitive we call them c1-c4. Additionally the reason why we are able to call the self back onto the x that its already defined with is because of the types of functions we are using 'conv2d' and 'maxpool2d' are functions that fit to an input. "
      ],
      "metadata": {
        "id": "ueP5YydC7CND"
      }
    },
    {
      "cell_type": "code",
      "source": [
        "GoogLeNet = keras.Sequential([\n",
        "            keras.layers.Conv2D(filters = 64, kernel_size = 1, strides = 2, padding = 'SAME', activation = 'relu'),\n",
        "            keras.layers.MaxPool2D(pool_size = (3,3), strides = 2, padding = 'SAME'),\n",
        "            keras.layers.Conv2D(filters = 64, kernel_size = 1, activation = 'relu'),\n",
        "            keras.layers.Conv2D(filters = 192, kernel_size = (3,3), activation = 'relu'),\n",
        "            keras.layers.MaxPool2D(pool_size = (3,3), strides = 2, padding = 'SAME'),\n",
        "            Inception(64, (96,128), (16,32), 32),\n",
        "            Inception(128, (128, 192,), (32, 96), 64),\n",
        "            keras.layers.MaxPool2D(pool_size = (3,3), strides = 2, padding = 'SAME'),\n",
        "            Inception(192, (96, 208), (16,48), 64),\n",
        "            Inception(160, (112, 224), (24,64), 64),\n",
        "            Inception(128, (128, 256), (24,64), 64),\n",
        "            Inception(112, (144, 288), (32, 64), 64),\n",
        "            Inception(256, (160, 320), (32, 128), 128),\n",
        "            keras.layers.MaxPool2D(pool_size = (3,3), strides = 2, padding = \"SAME\"),\n",
        "            Inception(256, (160, 320), (32, 128), 128),\n",
        "            Inception(384, (192, 384), (48, 128), 128),\n",
        "            keras.layers.GlobalAveragePooling2D(),\n",
        "            keras.layers.Flatten(), #Remember to always flatten before dense\n",
        "            keras.layers.Dense(10)\n",
        "\n",
        "])"
      ],
      "metadata": {
        "id": "dBh5tHAJ5oL4"
      },
      "execution_count": null,
      "outputs": []
    }
  ]
}