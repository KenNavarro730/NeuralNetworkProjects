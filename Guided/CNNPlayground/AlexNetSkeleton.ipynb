{
  "nbformat": 4,
  "nbformat_minor": 0,
  "metadata": {
    "colab": {
      "name": "AlexNetSkeleton.ipynb",
      "provenance": [],
      "collapsed_sections": []
    },
    "kernelspec": {
      "name": "python3",
      "display_name": "Python 3"
    },
    "language_info": {
      "name": "python"
    }
  },
  "cells": [
    {
      "cell_type": "code",
      "execution_count": null,
      "metadata": {
        "id": "zzoCTDpYthxS"
      },
      "outputs": [],
      "source": [
        "import pandas as pd\n",
        "import numpy as np\n",
        "import tensorflow as tf\n",
        "from tensorflow import keras "
      ]
    },
    {
      "cell_type": "code",
      "source": [
        "input_image=(227, 227, 3)"
      ],
      "metadata": {
        "id": "7Aj3202JwYjd"
      },
      "execution_count": null,
      "outputs": []
    },
    {
      "cell_type": "code",
      "source": [
        "model = keras.Sequential([\n",
        "        keras.layers.Conv2D(filters = 96, kernel_size = (11,11), strides = (4,4), padding = 'valid', activation = 'relu'),\n",
        "        keras.layers.MaxPool2D(pool_size=(3,3), strides = 2, padding = 'valid'),\n",
        "        keras.layers.Conv2D(filters = 256, kernel_size = (5,5), strides = 1, activation = 'relu', padding = 'SAME'),\n",
        "        keras.layers.MaxPool2D(pool_size = (3,3), strides = 2, padding = 'valid'),\n",
        "        keras.layers.Conv2D(filters = 384, kernel_size=(3,3), padding = 'SAME', activation = 'relu'),\n",
        "        keras.layers.Conv2D(filters = 384, kernel_size = (3,3), padding = 'SAME', activation = 'relu'),\n",
        "        keras.layers.Conv2D(filters = 256, kernel_size = (3,3), padding = 'SAME', activation = 'relu'),\n",
        "        keras.layers.Flatten(),\n",
        "        keras.layers.Dense(units = 4096,activation = 'relu'),\n",
        "        keras.layers.Dropout(0.4),\n",
        "        keras.layers.Dense(units = 4096, activation = 'relu'),\n",
        "        keras.layers.Dropout(0.4),\n",
        "        keras.layers.Dense(units = 1000, activation = 'softmax')\n",
        "])\n",
        "model.compile(loss = keras.losses.sparse_categorical_crossentropy, optimizer = 'adam', metrics = ['accuracy'])"
      ],
      "metadata": {
        "id": "MEODpgRat7uB"
      },
      "execution_count": null,
      "outputs": []
    },
    {
      "cell_type": "code",
      "source": [
        ""
      ],
      "metadata": {
        "id": "FL-UkRvwxR47"
      },
      "execution_count": null,
      "outputs": []
    }
  ]
}