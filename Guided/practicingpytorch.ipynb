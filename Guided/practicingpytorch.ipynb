{
  "nbformat": 4,
  "nbformat_minor": 0,
  "metadata": {
    "colab": {
      "name": "practicingpytorch.ipynb",
      "provenance": []
    },
    "kernelspec": {
      "name": "python3",
      "display_name": "Python 3"
    },
    "language_info": {
      "name": "python"
    },
    "widgets": {
      "application/vnd.jupyter.widget-state+json": {
        "78f0bc84c61b4a32bc3cdec62028ef7c": {
          "model_module": "@jupyter-widgets/controls",
          "model_name": "HBoxModel",
          "model_module_version": "1.5.0",
          "state": {
            "_dom_classes": [],
            "_model_module": "@jupyter-widgets/controls",
            "_model_module_version": "1.5.0",
            "_model_name": "HBoxModel",
            "_view_count": null,
            "_view_module": "@jupyter-widgets/controls",
            "_view_module_version": "1.5.0",
            "_view_name": "HBoxView",
            "box_style": "",
            "children": [
              "IPY_MODEL_a56d986ff8c64a529f690b1f423e9aa5",
              "IPY_MODEL_25470fd5c74944608eae9eb05c4cf01b",
              "IPY_MODEL_904e89b5b8634d21bb1447da0e5b5733"
            ],
            "layout": "IPY_MODEL_5110e07bff3c4c9192ed9935111863e8"
          }
        },
        "a56d986ff8c64a529f690b1f423e9aa5": {
          "model_module": "@jupyter-widgets/controls",
          "model_name": "HTMLModel",
          "model_module_version": "1.5.0",
          "state": {
            "_dom_classes": [],
            "_model_module": "@jupyter-widgets/controls",
            "_model_module_version": "1.5.0",
            "_model_name": "HTMLModel",
            "_view_count": null,
            "_view_module": "@jupyter-widgets/controls",
            "_view_module_version": "1.5.0",
            "_view_name": "HTMLView",
            "description": "",
            "description_tooltip": null,
            "layout": "IPY_MODEL_54b6a3e7a82d409fb3a3c34a54bab969",
            "placeholder": "​",
            "style": "IPY_MODEL_bfcbdb860b0a4fbdb125a85540c19ff8",
            "value": "100%"
          }
        },
        "25470fd5c74944608eae9eb05c4cf01b": {
          "model_module": "@jupyter-widgets/controls",
          "model_name": "FloatProgressModel",
          "model_module_version": "1.5.0",
          "state": {
            "_dom_classes": [],
            "_model_module": "@jupyter-widgets/controls",
            "_model_module_version": "1.5.0",
            "_model_name": "FloatProgressModel",
            "_view_count": null,
            "_view_module": "@jupyter-widgets/controls",
            "_view_module_version": "1.5.0",
            "_view_name": "ProgressView",
            "bar_style": "success",
            "description": "",
            "description_tooltip": null,
            "layout": "IPY_MODEL_4054f7656e36420e871557a312161b24",
            "max": 46830571,
            "min": 0,
            "orientation": "horizontal",
            "style": "IPY_MODEL_ac63861167c0493da87758259c4cafd1",
            "value": 46830571
          }
        },
        "904e89b5b8634d21bb1447da0e5b5733": {
          "model_module": "@jupyter-widgets/controls",
          "model_name": "HTMLModel",
          "model_module_version": "1.5.0",
          "state": {
            "_dom_classes": [],
            "_model_module": "@jupyter-widgets/controls",
            "_model_module_version": "1.5.0",
            "_model_name": "HTMLModel",
            "_view_count": null,
            "_view_module": "@jupyter-widgets/controls",
            "_view_module_version": "1.5.0",
            "_view_name": "HTMLView",
            "description": "",
            "description_tooltip": null,
            "layout": "IPY_MODEL_552b6b1b1da647fabf0e46f69a31ca2f",
            "placeholder": "​",
            "style": "IPY_MODEL_3dd4bd4000d141c3bf3fa47df4767f4d",
            "value": " 44.7M/44.7M [00:01&lt;00:00, 35.3MB/s]"
          }
        },
        "5110e07bff3c4c9192ed9935111863e8": {
          "model_module": "@jupyter-widgets/base",
          "model_name": "LayoutModel",
          "model_module_version": "1.2.0",
          "state": {
            "_model_module": "@jupyter-widgets/base",
            "_model_module_version": "1.2.0",
            "_model_name": "LayoutModel",
            "_view_count": null,
            "_view_module": "@jupyter-widgets/base",
            "_view_module_version": "1.2.0",
            "_view_name": "LayoutView",
            "align_content": null,
            "align_items": null,
            "align_self": null,
            "border": null,
            "bottom": null,
            "display": null,
            "flex": null,
            "flex_flow": null,
            "grid_area": null,
            "grid_auto_columns": null,
            "grid_auto_flow": null,
            "grid_auto_rows": null,
            "grid_column": null,
            "grid_gap": null,
            "grid_row": null,
            "grid_template_areas": null,
            "grid_template_columns": null,
            "grid_template_rows": null,
            "height": null,
            "justify_content": null,
            "justify_items": null,
            "left": null,
            "margin": null,
            "max_height": null,
            "max_width": null,
            "min_height": null,
            "min_width": null,
            "object_fit": null,
            "object_position": null,
            "order": null,
            "overflow": null,
            "overflow_x": null,
            "overflow_y": null,
            "padding": null,
            "right": null,
            "top": null,
            "visibility": null,
            "width": null
          }
        },
        "54b6a3e7a82d409fb3a3c34a54bab969": {
          "model_module": "@jupyter-widgets/base",
          "model_name": "LayoutModel",
          "model_module_version": "1.2.0",
          "state": {
            "_model_module": "@jupyter-widgets/base",
            "_model_module_version": "1.2.0",
            "_model_name": "LayoutModel",
            "_view_count": null,
            "_view_module": "@jupyter-widgets/base",
            "_view_module_version": "1.2.0",
            "_view_name": "LayoutView",
            "align_content": null,
            "align_items": null,
            "align_self": null,
            "border": null,
            "bottom": null,
            "display": null,
            "flex": null,
            "flex_flow": null,
            "grid_area": null,
            "grid_auto_columns": null,
            "grid_auto_flow": null,
            "grid_auto_rows": null,
            "grid_column": null,
            "grid_gap": null,
            "grid_row": null,
            "grid_template_areas": null,
            "grid_template_columns": null,
            "grid_template_rows": null,
            "height": null,
            "justify_content": null,
            "justify_items": null,
            "left": null,
            "margin": null,
            "max_height": null,
            "max_width": null,
            "min_height": null,
            "min_width": null,
            "object_fit": null,
            "object_position": null,
            "order": null,
            "overflow": null,
            "overflow_x": null,
            "overflow_y": null,
            "padding": null,
            "right": null,
            "top": null,
            "visibility": null,
            "width": null
          }
        },
        "bfcbdb860b0a4fbdb125a85540c19ff8": {
          "model_module": "@jupyter-widgets/controls",
          "model_name": "DescriptionStyleModel",
          "model_module_version": "1.5.0",
          "state": {
            "_model_module": "@jupyter-widgets/controls",
            "_model_module_version": "1.5.0",
            "_model_name": "DescriptionStyleModel",
            "_view_count": null,
            "_view_module": "@jupyter-widgets/base",
            "_view_module_version": "1.2.0",
            "_view_name": "StyleView",
            "description_width": ""
          }
        },
        "4054f7656e36420e871557a312161b24": {
          "model_module": "@jupyter-widgets/base",
          "model_name": "LayoutModel",
          "model_module_version": "1.2.0",
          "state": {
            "_model_module": "@jupyter-widgets/base",
            "_model_module_version": "1.2.0",
            "_model_name": "LayoutModel",
            "_view_count": null,
            "_view_module": "@jupyter-widgets/base",
            "_view_module_version": "1.2.0",
            "_view_name": "LayoutView",
            "align_content": null,
            "align_items": null,
            "align_self": null,
            "border": null,
            "bottom": null,
            "display": null,
            "flex": null,
            "flex_flow": null,
            "grid_area": null,
            "grid_auto_columns": null,
            "grid_auto_flow": null,
            "grid_auto_rows": null,
            "grid_column": null,
            "grid_gap": null,
            "grid_row": null,
            "grid_template_areas": null,
            "grid_template_columns": null,
            "grid_template_rows": null,
            "height": null,
            "justify_content": null,
            "justify_items": null,
            "left": null,
            "margin": null,
            "max_height": null,
            "max_width": null,
            "min_height": null,
            "min_width": null,
            "object_fit": null,
            "object_position": null,
            "order": null,
            "overflow": null,
            "overflow_x": null,
            "overflow_y": null,
            "padding": null,
            "right": null,
            "top": null,
            "visibility": null,
            "width": null
          }
        },
        "ac63861167c0493da87758259c4cafd1": {
          "model_module": "@jupyter-widgets/controls",
          "model_name": "ProgressStyleModel",
          "model_module_version": "1.5.0",
          "state": {
            "_model_module": "@jupyter-widgets/controls",
            "_model_module_version": "1.5.0",
            "_model_name": "ProgressStyleModel",
            "_view_count": null,
            "_view_module": "@jupyter-widgets/base",
            "_view_module_version": "1.2.0",
            "_view_name": "StyleView",
            "bar_color": null,
            "description_width": ""
          }
        },
        "552b6b1b1da647fabf0e46f69a31ca2f": {
          "model_module": "@jupyter-widgets/base",
          "model_name": "LayoutModel",
          "model_module_version": "1.2.0",
          "state": {
            "_model_module": "@jupyter-widgets/base",
            "_model_module_version": "1.2.0",
            "_model_name": "LayoutModel",
            "_view_count": null,
            "_view_module": "@jupyter-widgets/base",
            "_view_module_version": "1.2.0",
            "_view_name": "LayoutView",
            "align_content": null,
            "align_items": null,
            "align_self": null,
            "border": null,
            "bottom": null,
            "display": null,
            "flex": null,
            "flex_flow": null,
            "grid_area": null,
            "grid_auto_columns": null,
            "grid_auto_flow": null,
            "grid_auto_rows": null,
            "grid_column": null,
            "grid_gap": null,
            "grid_row": null,
            "grid_template_areas": null,
            "grid_template_columns": null,
            "grid_template_rows": null,
            "height": null,
            "justify_content": null,
            "justify_items": null,
            "left": null,
            "margin": null,
            "max_height": null,
            "max_width": null,
            "min_height": null,
            "min_width": null,
            "object_fit": null,
            "object_position": null,
            "order": null,
            "overflow": null,
            "overflow_x": null,
            "overflow_y": null,
            "padding": null,
            "right": null,
            "top": null,
            "visibility": null,
            "width": null
          }
        },
        "3dd4bd4000d141c3bf3fa47df4767f4d": {
          "model_module": "@jupyter-widgets/controls",
          "model_name": "DescriptionStyleModel",
          "model_module_version": "1.5.0",
          "state": {
            "_model_module": "@jupyter-widgets/controls",
            "_model_module_version": "1.5.0",
            "_model_name": "DescriptionStyleModel",
            "_view_count": null,
            "_view_module": "@jupyter-widgets/base",
            "_view_module_version": "1.2.0",
            "_view_name": "StyleView",
            "description_width": ""
          }
        },
        "0c300a3d7821408384f3ac3d592881a9": {
          "model_module": "@jupyter-widgets/controls",
          "model_name": "HBoxModel",
          "model_module_version": "1.5.0",
          "state": {
            "_dom_classes": [],
            "_model_module": "@jupyter-widgets/controls",
            "_model_module_version": "1.5.0",
            "_model_name": "HBoxModel",
            "_view_count": null,
            "_view_module": "@jupyter-widgets/controls",
            "_view_module_version": "1.5.0",
            "_view_name": "HBoxView",
            "box_style": "",
            "children": [
              "IPY_MODEL_5bf27b6b23af4a5f885bdef54b463339",
              "IPY_MODEL_8285d17b30c144da9248c02c2a7e2ea6",
              "IPY_MODEL_9ad514011ba54c33a30819c4a9cd7460"
            ],
            "layout": "IPY_MODEL_7de445ee4cc84665a8ac00507f4c2bb2"
          }
        },
        "5bf27b6b23af4a5f885bdef54b463339": {
          "model_module": "@jupyter-widgets/controls",
          "model_name": "HTMLModel",
          "model_module_version": "1.5.0",
          "state": {
            "_dom_classes": [],
            "_model_module": "@jupyter-widgets/controls",
            "_model_module_version": "1.5.0",
            "_model_name": "HTMLModel",
            "_view_count": null,
            "_view_module": "@jupyter-widgets/controls",
            "_view_module_version": "1.5.0",
            "_view_name": "HTMLView",
            "description": "",
            "description_tooltip": null,
            "layout": "IPY_MODEL_99c7680f677e40c59990d40f54267f29",
            "placeholder": "​",
            "style": "IPY_MODEL_d26441eb9c8f4024bb9caaed7ab710e1",
            "value": ""
          }
        },
        "8285d17b30c144da9248c02c2a7e2ea6": {
          "model_module": "@jupyter-widgets/controls",
          "model_name": "FloatProgressModel",
          "model_module_version": "1.5.0",
          "state": {
            "_dom_classes": [],
            "_model_module": "@jupyter-widgets/controls",
            "_model_module_version": "1.5.0",
            "_model_name": "FloatProgressModel",
            "_view_count": null,
            "_view_module": "@jupyter-widgets/controls",
            "_view_module_version": "1.5.0",
            "_view_name": "ProgressView",
            "bar_style": "success",
            "description": "",
            "description_tooltip": null,
            "layout": "IPY_MODEL_a9d283195ad2488eaf275b19e87861f9",
            "max": 170498071,
            "min": 0,
            "orientation": "horizontal",
            "style": "IPY_MODEL_c728f27560fc45da84db5873f5948b50",
            "value": 170498071
          }
        },
        "9ad514011ba54c33a30819c4a9cd7460": {
          "model_module": "@jupyter-widgets/controls",
          "model_name": "HTMLModel",
          "model_module_version": "1.5.0",
          "state": {
            "_dom_classes": [],
            "_model_module": "@jupyter-widgets/controls",
            "_model_module_version": "1.5.0",
            "_model_name": "HTMLModel",
            "_view_count": null,
            "_view_module": "@jupyter-widgets/controls",
            "_view_module_version": "1.5.0",
            "_view_name": "HTMLView",
            "description": "",
            "description_tooltip": null,
            "layout": "IPY_MODEL_59688605758342bb8791a4d974d3add7",
            "placeholder": "​",
            "style": "IPY_MODEL_e4fbbbacfbda4224992b6c5b1a16661d",
            "value": " 170499072/? [00:02&lt;00:00, 56741668.57it/s]"
          }
        },
        "7de445ee4cc84665a8ac00507f4c2bb2": {
          "model_module": "@jupyter-widgets/base",
          "model_name": "LayoutModel",
          "model_module_version": "1.2.0",
          "state": {
            "_model_module": "@jupyter-widgets/base",
            "_model_module_version": "1.2.0",
            "_model_name": "LayoutModel",
            "_view_count": null,
            "_view_module": "@jupyter-widgets/base",
            "_view_module_version": "1.2.0",
            "_view_name": "LayoutView",
            "align_content": null,
            "align_items": null,
            "align_self": null,
            "border": null,
            "bottom": null,
            "display": null,
            "flex": null,
            "flex_flow": null,
            "grid_area": null,
            "grid_auto_columns": null,
            "grid_auto_flow": null,
            "grid_auto_rows": null,
            "grid_column": null,
            "grid_gap": null,
            "grid_row": null,
            "grid_template_areas": null,
            "grid_template_columns": null,
            "grid_template_rows": null,
            "height": null,
            "justify_content": null,
            "justify_items": null,
            "left": null,
            "margin": null,
            "max_height": null,
            "max_width": null,
            "min_height": null,
            "min_width": null,
            "object_fit": null,
            "object_position": null,
            "order": null,
            "overflow": null,
            "overflow_x": null,
            "overflow_y": null,
            "padding": null,
            "right": null,
            "top": null,
            "visibility": null,
            "width": null
          }
        },
        "99c7680f677e40c59990d40f54267f29": {
          "model_module": "@jupyter-widgets/base",
          "model_name": "LayoutModel",
          "model_module_version": "1.2.0",
          "state": {
            "_model_module": "@jupyter-widgets/base",
            "_model_module_version": "1.2.0",
            "_model_name": "LayoutModel",
            "_view_count": null,
            "_view_module": "@jupyter-widgets/base",
            "_view_module_version": "1.2.0",
            "_view_name": "LayoutView",
            "align_content": null,
            "align_items": null,
            "align_self": null,
            "border": null,
            "bottom": null,
            "display": null,
            "flex": null,
            "flex_flow": null,
            "grid_area": null,
            "grid_auto_columns": null,
            "grid_auto_flow": null,
            "grid_auto_rows": null,
            "grid_column": null,
            "grid_gap": null,
            "grid_row": null,
            "grid_template_areas": null,
            "grid_template_columns": null,
            "grid_template_rows": null,
            "height": null,
            "justify_content": null,
            "justify_items": null,
            "left": null,
            "margin": null,
            "max_height": null,
            "max_width": null,
            "min_height": null,
            "min_width": null,
            "object_fit": null,
            "object_position": null,
            "order": null,
            "overflow": null,
            "overflow_x": null,
            "overflow_y": null,
            "padding": null,
            "right": null,
            "top": null,
            "visibility": null,
            "width": null
          }
        },
        "d26441eb9c8f4024bb9caaed7ab710e1": {
          "model_module": "@jupyter-widgets/controls",
          "model_name": "DescriptionStyleModel",
          "model_module_version": "1.5.0",
          "state": {
            "_model_module": "@jupyter-widgets/controls",
            "_model_module_version": "1.5.0",
            "_model_name": "DescriptionStyleModel",
            "_view_count": null,
            "_view_module": "@jupyter-widgets/base",
            "_view_module_version": "1.2.0",
            "_view_name": "StyleView",
            "description_width": ""
          }
        },
        "a9d283195ad2488eaf275b19e87861f9": {
          "model_module": "@jupyter-widgets/base",
          "model_name": "LayoutModel",
          "model_module_version": "1.2.0",
          "state": {
            "_model_module": "@jupyter-widgets/base",
            "_model_module_version": "1.2.0",
            "_model_name": "LayoutModel",
            "_view_count": null,
            "_view_module": "@jupyter-widgets/base",
            "_view_module_version": "1.2.0",
            "_view_name": "LayoutView",
            "align_content": null,
            "align_items": null,
            "align_self": null,
            "border": null,
            "bottom": null,
            "display": null,
            "flex": null,
            "flex_flow": null,
            "grid_area": null,
            "grid_auto_columns": null,
            "grid_auto_flow": null,
            "grid_auto_rows": null,
            "grid_column": null,
            "grid_gap": null,
            "grid_row": null,
            "grid_template_areas": null,
            "grid_template_columns": null,
            "grid_template_rows": null,
            "height": null,
            "justify_content": null,
            "justify_items": null,
            "left": null,
            "margin": null,
            "max_height": null,
            "max_width": null,
            "min_height": null,
            "min_width": null,
            "object_fit": null,
            "object_position": null,
            "order": null,
            "overflow": null,
            "overflow_x": null,
            "overflow_y": null,
            "padding": null,
            "right": null,
            "top": null,
            "visibility": null,
            "width": null
          }
        },
        "c728f27560fc45da84db5873f5948b50": {
          "model_module": "@jupyter-widgets/controls",
          "model_name": "ProgressStyleModel",
          "model_module_version": "1.5.0",
          "state": {
            "_model_module": "@jupyter-widgets/controls",
            "_model_module_version": "1.5.0",
            "_model_name": "ProgressStyleModel",
            "_view_count": null,
            "_view_module": "@jupyter-widgets/base",
            "_view_module_version": "1.2.0",
            "_view_name": "StyleView",
            "bar_color": null,
            "description_width": ""
          }
        },
        "59688605758342bb8791a4d974d3add7": {
          "model_module": "@jupyter-widgets/base",
          "model_name": "LayoutModel",
          "model_module_version": "1.2.0",
          "state": {
            "_model_module": "@jupyter-widgets/base",
            "_model_module_version": "1.2.0",
            "_model_name": "LayoutModel",
            "_view_count": null,
            "_view_module": "@jupyter-widgets/base",
            "_view_module_version": "1.2.0",
            "_view_name": "LayoutView",
            "align_content": null,
            "align_items": null,
            "align_self": null,
            "border": null,
            "bottom": null,
            "display": null,
            "flex": null,
            "flex_flow": null,
            "grid_area": null,
            "grid_auto_columns": null,
            "grid_auto_flow": null,
            "grid_auto_rows": null,
            "grid_column": null,
            "grid_gap": null,
            "grid_row": null,
            "grid_template_areas": null,
            "grid_template_columns": null,
            "grid_template_rows": null,
            "height": null,
            "justify_content": null,
            "justify_items": null,
            "left": null,
            "margin": null,
            "max_height": null,
            "max_width": null,
            "min_height": null,
            "min_width": null,
            "object_fit": null,
            "object_position": null,
            "order": null,
            "overflow": null,
            "overflow_x": null,
            "overflow_y": null,
            "padding": null,
            "right": null,
            "top": null,
            "visibility": null,
            "width": null
          }
        },
        "e4fbbbacfbda4224992b6c5b1a16661d": {
          "model_module": "@jupyter-widgets/controls",
          "model_name": "DescriptionStyleModel",
          "model_module_version": "1.5.0",
          "state": {
            "_model_module": "@jupyter-widgets/controls",
            "_model_module_version": "1.5.0",
            "_model_name": "DescriptionStyleModel",
            "_view_count": null,
            "_view_module": "@jupyter-widgets/base",
            "_view_module_version": "1.2.0",
            "_view_name": "StyleView",
            "description_width": ""
          }
        },
        "b5c1da8e5a964051947545ad141adaaa": {
          "model_module": "@jupyter-widgets/controls",
          "model_name": "HBoxModel",
          "model_module_version": "1.5.0",
          "state": {
            "_dom_classes": [],
            "_model_module": "@jupyter-widgets/controls",
            "_model_module_version": "1.5.0",
            "_model_name": "HBoxModel",
            "_view_count": null,
            "_view_module": "@jupyter-widgets/controls",
            "_view_module_version": "1.5.0",
            "_view_name": "HBoxView",
            "box_style": "",
            "children": [
              "IPY_MODEL_1ef135ca9dc34d09b06c457e0cf1d6ec",
              "IPY_MODEL_346ce13e8cc4435fb0b56b3e41c1ccf0",
              "IPY_MODEL_7eb60e05aab24358b0df68b5439752da"
            ],
            "layout": "IPY_MODEL_ce1488221f5748229c4eb714a34ce747"
          }
        },
        "1ef135ca9dc34d09b06c457e0cf1d6ec": {
          "model_module": "@jupyter-widgets/controls",
          "model_name": "HTMLModel",
          "model_module_version": "1.5.0",
          "state": {
            "_dom_classes": [],
            "_model_module": "@jupyter-widgets/controls",
            "_model_module_version": "1.5.0",
            "_model_name": "HTMLModel",
            "_view_count": null,
            "_view_module": "@jupyter-widgets/controls",
            "_view_module_version": "1.5.0",
            "_view_name": "HTMLView",
            "description": "",
            "description_tooltip": null,
            "layout": "IPY_MODEL_a0916fa0b3684674bf4d8eadcab29e2d",
            "placeholder": "​",
            "style": "IPY_MODEL_78d2804f94b3485fb0dcb9f2893465a3",
            "value": ""
          }
        },
        "346ce13e8cc4435fb0b56b3e41c1ccf0": {
          "model_module": "@jupyter-widgets/controls",
          "model_name": "FloatProgressModel",
          "model_module_version": "1.5.0",
          "state": {
            "_dom_classes": [],
            "_model_module": "@jupyter-widgets/controls",
            "_model_module_version": "1.5.0",
            "_model_name": "FloatProgressModel",
            "_view_count": null,
            "_view_module": "@jupyter-widgets/controls",
            "_view_module_version": "1.5.0",
            "_view_name": "ProgressView",
            "bar_style": "success",
            "description": "",
            "description_tooltip": null,
            "layout": "IPY_MODEL_751aa1d363544604a33bfe1f64095c3f",
            "max": 170498071,
            "min": 0,
            "orientation": "horizontal",
            "style": "IPY_MODEL_68836e71478a4d80b3c5411d6c331c34",
            "value": 170498071
          }
        },
        "7eb60e05aab24358b0df68b5439752da": {
          "model_module": "@jupyter-widgets/controls",
          "model_name": "HTMLModel",
          "model_module_version": "1.5.0",
          "state": {
            "_dom_classes": [],
            "_model_module": "@jupyter-widgets/controls",
            "_model_module_version": "1.5.0",
            "_model_name": "HTMLModel",
            "_view_count": null,
            "_view_module": "@jupyter-widgets/controls",
            "_view_module_version": "1.5.0",
            "_view_name": "HTMLView",
            "description": "",
            "description_tooltip": null,
            "layout": "IPY_MODEL_830802a8b1f3492dbbb29853f448e048",
            "placeholder": "​",
            "style": "IPY_MODEL_015a0cad41434d128e5a12bbfc8dd08e",
            "value": " 170499072/? [00:04&lt;00:00, 32542642.30it/s]"
          }
        },
        "ce1488221f5748229c4eb714a34ce747": {
          "model_module": "@jupyter-widgets/base",
          "model_name": "LayoutModel",
          "model_module_version": "1.2.0",
          "state": {
            "_model_module": "@jupyter-widgets/base",
            "_model_module_version": "1.2.0",
            "_model_name": "LayoutModel",
            "_view_count": null,
            "_view_module": "@jupyter-widgets/base",
            "_view_module_version": "1.2.0",
            "_view_name": "LayoutView",
            "align_content": null,
            "align_items": null,
            "align_self": null,
            "border": null,
            "bottom": null,
            "display": null,
            "flex": null,
            "flex_flow": null,
            "grid_area": null,
            "grid_auto_columns": null,
            "grid_auto_flow": null,
            "grid_auto_rows": null,
            "grid_column": null,
            "grid_gap": null,
            "grid_row": null,
            "grid_template_areas": null,
            "grid_template_columns": null,
            "grid_template_rows": null,
            "height": null,
            "justify_content": null,
            "justify_items": null,
            "left": null,
            "margin": null,
            "max_height": null,
            "max_width": null,
            "min_height": null,
            "min_width": null,
            "object_fit": null,
            "object_position": null,
            "order": null,
            "overflow": null,
            "overflow_x": null,
            "overflow_y": null,
            "padding": null,
            "right": null,
            "top": null,
            "visibility": null,
            "width": null
          }
        },
        "a0916fa0b3684674bf4d8eadcab29e2d": {
          "model_module": "@jupyter-widgets/base",
          "model_name": "LayoutModel",
          "model_module_version": "1.2.0",
          "state": {
            "_model_module": "@jupyter-widgets/base",
            "_model_module_version": "1.2.0",
            "_model_name": "LayoutModel",
            "_view_count": null,
            "_view_module": "@jupyter-widgets/base",
            "_view_module_version": "1.2.0",
            "_view_name": "LayoutView",
            "align_content": null,
            "align_items": null,
            "align_self": null,
            "border": null,
            "bottom": null,
            "display": null,
            "flex": null,
            "flex_flow": null,
            "grid_area": null,
            "grid_auto_columns": null,
            "grid_auto_flow": null,
            "grid_auto_rows": null,
            "grid_column": null,
            "grid_gap": null,
            "grid_row": null,
            "grid_template_areas": null,
            "grid_template_columns": null,
            "grid_template_rows": null,
            "height": null,
            "justify_content": null,
            "justify_items": null,
            "left": null,
            "margin": null,
            "max_height": null,
            "max_width": null,
            "min_height": null,
            "min_width": null,
            "object_fit": null,
            "object_position": null,
            "order": null,
            "overflow": null,
            "overflow_x": null,
            "overflow_y": null,
            "padding": null,
            "right": null,
            "top": null,
            "visibility": null,
            "width": null
          }
        },
        "78d2804f94b3485fb0dcb9f2893465a3": {
          "model_module": "@jupyter-widgets/controls",
          "model_name": "DescriptionStyleModel",
          "model_module_version": "1.5.0",
          "state": {
            "_model_module": "@jupyter-widgets/controls",
            "_model_module_version": "1.5.0",
            "_model_name": "DescriptionStyleModel",
            "_view_count": null,
            "_view_module": "@jupyter-widgets/base",
            "_view_module_version": "1.2.0",
            "_view_name": "StyleView",
            "description_width": ""
          }
        },
        "751aa1d363544604a33bfe1f64095c3f": {
          "model_module": "@jupyter-widgets/base",
          "model_name": "LayoutModel",
          "model_module_version": "1.2.0",
          "state": {
            "_model_module": "@jupyter-widgets/base",
            "_model_module_version": "1.2.0",
            "_model_name": "LayoutModel",
            "_view_count": null,
            "_view_module": "@jupyter-widgets/base",
            "_view_module_version": "1.2.0",
            "_view_name": "LayoutView",
            "align_content": null,
            "align_items": null,
            "align_self": null,
            "border": null,
            "bottom": null,
            "display": null,
            "flex": null,
            "flex_flow": null,
            "grid_area": null,
            "grid_auto_columns": null,
            "grid_auto_flow": null,
            "grid_auto_rows": null,
            "grid_column": null,
            "grid_gap": null,
            "grid_row": null,
            "grid_template_areas": null,
            "grid_template_columns": null,
            "grid_template_rows": null,
            "height": null,
            "justify_content": null,
            "justify_items": null,
            "left": null,
            "margin": null,
            "max_height": null,
            "max_width": null,
            "min_height": null,
            "min_width": null,
            "object_fit": null,
            "object_position": null,
            "order": null,
            "overflow": null,
            "overflow_x": null,
            "overflow_y": null,
            "padding": null,
            "right": null,
            "top": null,
            "visibility": null,
            "width": null
          }
        },
        "68836e71478a4d80b3c5411d6c331c34": {
          "model_module": "@jupyter-widgets/controls",
          "model_name": "ProgressStyleModel",
          "model_module_version": "1.5.0",
          "state": {
            "_model_module": "@jupyter-widgets/controls",
            "_model_module_version": "1.5.0",
            "_model_name": "ProgressStyleModel",
            "_view_count": null,
            "_view_module": "@jupyter-widgets/base",
            "_view_module_version": "1.2.0",
            "_view_name": "StyleView",
            "bar_color": null,
            "description_width": ""
          }
        },
        "830802a8b1f3492dbbb29853f448e048": {
          "model_module": "@jupyter-widgets/base",
          "model_name": "LayoutModel",
          "model_module_version": "1.2.0",
          "state": {
            "_model_module": "@jupyter-widgets/base",
            "_model_module_version": "1.2.0",
            "_model_name": "LayoutModel",
            "_view_count": null,
            "_view_module": "@jupyter-widgets/base",
            "_view_module_version": "1.2.0",
            "_view_name": "LayoutView",
            "align_content": null,
            "align_items": null,
            "align_self": null,
            "border": null,
            "bottom": null,
            "display": null,
            "flex": null,
            "flex_flow": null,
            "grid_area": null,
            "grid_auto_columns": null,
            "grid_auto_flow": null,
            "grid_auto_rows": null,
            "grid_column": null,
            "grid_gap": null,
            "grid_row": null,
            "grid_template_areas": null,
            "grid_template_columns": null,
            "grid_template_rows": null,
            "height": null,
            "justify_content": null,
            "justify_items": null,
            "left": null,
            "margin": null,
            "max_height": null,
            "max_width": null,
            "min_height": null,
            "min_width": null,
            "object_fit": null,
            "object_position": null,
            "order": null,
            "overflow": null,
            "overflow_x": null,
            "overflow_y": null,
            "padding": null,
            "right": null,
            "top": null,
            "visibility": null,
            "width": null
          }
        },
        "015a0cad41434d128e5a12bbfc8dd08e": {
          "model_module": "@jupyter-widgets/controls",
          "model_name": "DescriptionStyleModel",
          "model_module_version": "1.5.0",
          "state": {
            "_model_module": "@jupyter-widgets/controls",
            "_model_module_version": "1.5.0",
            "_model_name": "DescriptionStyleModel",
            "_view_count": null,
            "_view_module": "@jupyter-widgets/base",
            "_view_module_version": "1.2.0",
            "_view_name": "StyleView",
            "description_width": ""
          }
        }
      }
    }
  },
  "cells": [
    {
      "cell_type": "code",
      "execution_count": null,
      "metadata": {
        "id": "yYPcO4_sWh3v"
      },
      "outputs": [],
      "source": [
        "import torch"
      ]
    },
    {
      "cell_type": "code",
      "source": [
        "#We can make tensors via torch.tensor(data) and inputting the data we want to convert to our tensor from our memory\n",
        "#We can also convert from numpy array to tensor via torch.from_numpy(numpy data)\n",
        "#Note that the new tensor maintains the shape of the original tensor as well as its data type\n",
        "#with a tensor we can check the shape with .shape, we can check the datatype with .dtype and we can check the device it is stored on with .device\n",
        "tensor = torch.ones(4,4)\n",
        "print(tensor)\n",
        "tensor.shape"
      ],
      "metadata": {
        "colab": {
          "base_uri": "https://localhost:8080/"
        },
        "id": "0Ve7lzusWkEN",
        "outputId": "df3b2319-c0db-492d-928b-fd4d40e046dd"
      },
      "execution_count": null,
      "outputs": [
        {
          "output_type": "stream",
          "name": "stdout",
          "text": [
            "tensor([[1., 1., 1., 1.],\n",
            "        [1., 1., 1., 1.],\n",
            "        [1., 1., 1., 1.],\n",
            "        [1., 1., 1., 1.]])\n"
          ]
        },
        {
          "output_type": "execute_result",
          "data": {
            "text/plain": [
              "torch.Size([4, 4])"
            ]
          },
          "metadata": {},
          "execution_count": 3
        }
      ]
    },
    {
      "cell_type": "code",
      "source": [
        "tensor.dtype"
      ],
      "metadata": {
        "colab": {
          "base_uri": "https://localhost:8080/"
        },
        "id": "ysqmvpA2YWlH",
        "outputId": "d27723db-faab-4a63-c4d9-1f35e652f346"
      },
      "execution_count": null,
      "outputs": [
        {
          "output_type": "execute_result",
          "data": {
            "text/plain": [
              "torch.float32"
            ]
          },
          "metadata": {},
          "execution_count": 4
        }
      ]
    },
    {
      "cell_type": "code",
      "source": [
        "tensor.device"
      ],
      "metadata": {
        "colab": {
          "base_uri": "https://localhost:8080/"
        },
        "id": "000kJsWNYY-v",
        "outputId": "a57cdb15-9a17-406d-e64d-3a4d37d0f3a1"
      },
      "execution_count": null,
      "outputs": [
        {
          "output_type": "execute_result",
          "data": {
            "text/plain": [
              "device(type='cpu')"
            ]
          },
          "metadata": {},
          "execution_count": 5
        }
      ]
    },
    {
      "cell_type": "code",
      "source": [
        "tensor1 = torch.concat([tensor, tensor, tensor], dim = 0) #0 will be along row and 1 will be along column which makes sense since typically dimensions are denoted HxW where H is row\n",
        "#and W is columns"
      ],
      "metadata": {
        "id": "_IM3pcweYZum"
      },
      "execution_count": null,
      "outputs": []
    },
    {
      "cell_type": "code",
      "source": [
        "tensor1"
      ],
      "metadata": {
        "colab": {
          "base_uri": "https://localhost:8080/"
        },
        "id": "mJBbEgpCYr2w",
        "outputId": "4840f3be-a326-466a-bba0-99baf37bfe54"
      },
      "execution_count": null,
      "outputs": [
        {
          "output_type": "execute_result",
          "data": {
            "text/plain": [
              "tensor([[1., 1., 1., 1.],\n",
              "        [1., 1., 1., 1.],\n",
              "        [1., 1., 1., 1.],\n",
              "        [1., 1., 1., 1.],\n",
              "        [1., 1., 1., 1.],\n",
              "        [1., 1., 1., 1.],\n",
              "        [1., 1., 1., 1.],\n",
              "        [1., 1., 1., 1.],\n",
              "        [1., 1., 1., 1.],\n",
              "        [1., 1., 1., 1.],\n",
              "        [1., 1., 1., 1.],\n",
              "        [1., 1., 1., 1.]])"
            ]
          },
          "metadata": {},
          "execution_count": 9
        }
      ]
    },
    {
      "cell_type": "code",
      "source": [
        "tensormatmul = tensor1.matmul(tensor1.T)\n",
        "tensormatmul"
      ],
      "metadata": {
        "colab": {
          "base_uri": "https://localhost:8080/"
        },
        "id": "qEBz_qaFYsVT",
        "outputId": "f5195d3d-a336-448d-8046-3e65bd1c3a61"
      },
      "execution_count": null,
      "outputs": [
        {
          "output_type": "execute_result",
          "data": {
            "text/plain": [
              "tensor([[4., 4., 4., 4., 4., 4., 4., 4., 4., 4., 4., 4.],\n",
              "        [4., 4., 4., 4., 4., 4., 4., 4., 4., 4., 4., 4.],\n",
              "        [4., 4., 4., 4., 4., 4., 4., 4., 4., 4., 4., 4.],\n",
              "        [4., 4., 4., 4., 4., 4., 4., 4., 4., 4., 4., 4.],\n",
              "        [4., 4., 4., 4., 4., 4., 4., 4., 4., 4., 4., 4.],\n",
              "        [4., 4., 4., 4., 4., 4., 4., 4., 4., 4., 4., 4.],\n",
              "        [4., 4., 4., 4., 4., 4., 4., 4., 4., 4., 4., 4.],\n",
              "        [4., 4., 4., 4., 4., 4., 4., 4., 4., 4., 4., 4.],\n",
              "        [4., 4., 4., 4., 4., 4., 4., 4., 4., 4., 4., 4.],\n",
              "        [4., 4., 4., 4., 4., 4., 4., 4., 4., 4., 4., 4.],\n",
              "        [4., 4., 4., 4., 4., 4., 4., 4., 4., 4., 4., 4.],\n",
              "        [4., 4., 4., 4., 4., 4., 4., 4., 4., 4., 4., 4.]])"
            ]
          },
          "metadata": {},
          "execution_count": 10
        }
      ]
    },
    {
      "cell_type": "code",
      "source": [
        "tensormatmul2 = tensor1 * tensor1"
      ],
      "metadata": {
        "id": "zDU6FFZfZJZi"
      },
      "execution_count": null,
      "outputs": []
    },
    {
      "cell_type": "code",
      "source": [
        "tensormatmul2 #element wise!"
      ],
      "metadata": {
        "colab": {
          "base_uri": "https://localhost:8080/"
        },
        "id": "P1G4zZCZZMR2",
        "outputId": "c99313de-ee93-4018-f178-d1c7375c4579"
      },
      "execution_count": null,
      "outputs": [
        {
          "output_type": "execute_result",
          "data": {
            "text/plain": [
              "tensor([[1., 1., 1., 1.],\n",
              "        [1., 1., 1., 1.],\n",
              "        [1., 1., 1., 1.],\n",
              "        [1., 1., 1., 1.],\n",
              "        [1., 1., 1., 1.],\n",
              "        [1., 1., 1., 1.],\n",
              "        [1., 1., 1., 1.],\n",
              "        [1., 1., 1., 1.],\n",
              "        [1., 1., 1., 1.],\n",
              "        [1., 1., 1., 1.],\n",
              "        [1., 1., 1., 1.],\n",
              "        [1., 1., 1., 1.]])"
            ]
          },
          "metadata": {},
          "execution_count": 12
        }
      ]
    },
    {
      "cell_type": "code",
      "source": [
        "#Operations have a suffix _ after them will edit the tensor we are doing the operation with, for example\n",
        "tensor1"
      ],
      "metadata": {
        "colab": {
          "base_uri": "https://localhost:8080/"
        },
        "id": "DXjMXSdbZNb0",
        "outputId": "0a6094ae-e2c6-4f16-ccca-c3c68057478f"
      },
      "execution_count": null,
      "outputs": [
        {
          "output_type": "execute_result",
          "data": {
            "text/plain": [
              "tensor([[1., 1., 1., 1.],\n",
              "        [1., 1., 1., 1.],\n",
              "        [1., 1., 1., 1.],\n",
              "        [1., 1., 1., 1.],\n",
              "        [1., 1., 1., 1.],\n",
              "        [1., 1., 1., 1.],\n",
              "        [1., 1., 1., 1.],\n",
              "        [1., 1., 1., 1.],\n",
              "        [1., 1., 1., 1.],\n",
              "        [1., 1., 1., 1.],\n",
              "        [1., 1., 1., 1.],\n",
              "        [1., 1., 1., 1.]])"
            ]
          },
          "metadata": {},
          "execution_count": 13
        }
      ]
    },
    {
      "cell_type": "code",
      "source": [
        "tensor1.add_(5)\n",
        "tensor1 #Note how the operation works element wise like numpy"
      ],
      "metadata": {
        "colab": {
          "base_uri": "https://localhost:8080/"
        },
        "id": "gzf8_xU_ZWw7",
        "outputId": "a65266ce-5b90-4e81-aa76-8cf25e67b123"
      },
      "execution_count": null,
      "outputs": [
        {
          "output_type": "execute_result",
          "data": {
            "text/plain": [
              "tensor([[6., 6., 6., 6.],\n",
              "        [6., 6., 6., 6.],\n",
              "        [6., 6., 6., 6.],\n",
              "        [6., 6., 6., 6.],\n",
              "        [6., 6., 6., 6.],\n",
              "        [6., 6., 6., 6.],\n",
              "        [6., 6., 6., 6.],\n",
              "        [6., 6., 6., 6.],\n",
              "        [6., 6., 6., 6.],\n",
              "        [6., 6., 6., 6.],\n",
              "        [6., 6., 6., 6.],\n",
              "        [6., 6., 6., 6.]])"
            ]
          },
          "metadata": {},
          "execution_count": 14
        }
      ]
    },
    {
      "cell_type": "code",
      "source": [
        "import torchvision\n",
        "model = torchvision.models.resnet18(pretrained=True)\n",
        "data = torch.rand(1,3,64,64)\n",
        "label = torch.rand(1,1000)\n",
        "prediction = model(data)\n",
        "loss = (prediction - label).sum()\n",
        "loss.backward()\n",
        "optimizer = torch.optim.SGD(model.parameters(), lr = 1e-2, momentum = 0.9)\n",
        "optimizer.step()"
      ],
      "metadata": {
        "colab": {
          "base_uri": "https://localhost:8080/",
          "height": 67,
          "referenced_widgets": [
            "78f0bc84c61b4a32bc3cdec62028ef7c",
            "a56d986ff8c64a529f690b1f423e9aa5",
            "25470fd5c74944608eae9eb05c4cf01b",
            "904e89b5b8634d21bb1447da0e5b5733",
            "5110e07bff3c4c9192ed9935111863e8",
            "54b6a3e7a82d409fb3a3c34a54bab969",
            "bfcbdb860b0a4fbdb125a85540c19ff8",
            "4054f7656e36420e871557a312161b24",
            "ac63861167c0493da87758259c4cafd1",
            "552b6b1b1da647fabf0e46f69a31ca2f",
            "3dd4bd4000d141c3bf3fa47df4767f4d"
          ]
        },
        "id": "uXiaIHIPZYZd",
        "outputId": "8958fcf7-15b0-484a-dac2-55d90189f126"
      },
      "execution_count": null,
      "outputs": [
        {
          "output_type": "stream",
          "name": "stderr",
          "text": [
            "Downloading: \"https://download.pytorch.org/models/resnet18-f37072fd.pth\" to /root/.cache/torch/hub/checkpoints/resnet18-f37072fd.pth\n"
          ]
        },
        {
          "output_type": "display_data",
          "data": {
            "text/plain": [
              "  0%|          | 0.00/44.7M [00:00<?, ?B/s]"
            ],
            "application/vnd.jupyter.widget-view+json": {
              "version_major": 2,
              "version_minor": 0,
              "model_id": "78f0bc84c61b4a32bc3cdec62028ef7c"
            }
          },
          "metadata": {}
        }
      ]
    },
    {
      "cell_type": "code",
      "source": [
        "loss"
      ],
      "metadata": {
        "colab": {
          "base_uri": "https://localhost:8080/"
        },
        "id": "jfH0Gq7tapft",
        "outputId": "7ad4d4b7-4062-4811-fe98-2cac49d93f60"
      },
      "execution_count": null,
      "outputs": [
        {
          "output_type": "execute_result",
          "data": {
            "text/plain": [
              "tensor(-487.9855, grad_fn=<SumBackward0>)"
            ]
          },
          "metadata": {},
          "execution_count": 16
        }
      ]
    },
    {
      "cell_type": "code",
      "source": [
        "#The idea is that after we calculate the loss, we do a backward() pass. Then at this point the loss was calculated and the backprop was done as well\n",
        "#now all we have to do is update the model parameters according to each units associated gradient. Then repeat the process over and over again,"
      ],
      "metadata": {
        "id": "iq5uQ1zTasjJ"
      },
      "execution_count": null,
      "outputs": []
    },
    {
      "cell_type": "markdown",
      "source": [
        "The detail workings of why the above differentiation api works."
      ],
      "metadata": {
        "id": "-AjkK3uVbd-T"
      }
    },
    {
      "cell_type": "code",
      "source": [
        "a = torch.tensor([2., 3.], requires_grad=True)\n",
        "b = torch.tensor([6., 4.], requires_grad=True)\n",
        "Q = 3*a**3 - b**2 #Note that double astrik means exponent\n",
        "#Now lets assume Q is the error function and a and b are the model parameters, we want gradient of error with respect to parameters to be the following"
      ],
      "metadata": {
        "id": "VISMDJASbhsI"
      },
      "execution_count": null,
      "outputs": []
    },
    {
      "cell_type": "markdown",
      "source": [
        "Now the idea is that when we call .backward() on Q (the loss function in this case), it calculates the gradients with respect to the parameters and stores them in the respective tensors .grad attribute (initialized with requires_grad) I believe. Also note that the output will be a vector if we do not use .sum(), so make sure to always use .sum() before calling .backward() this saves a lot of time, "
      ],
      "metadata": {
        "id": "K-bD0MWkcGMG"
      }
    },
    {
      "cell_type": "code",
      "source": [
        "# Q.sum().backward()\n",
        "print(9*a**2 == a.grad)\n",
        "print(-2*b == b.grad)\n",
        "#The idea is that after we do .backward(), all of the gradients of the loss with respect to the variables are stored within the .grad() property of the variable"
      ],
      "metadata": {
        "colab": {
          "base_uri": "https://localhost:8080/"
        },
        "id": "5ch9GcV6dMx-",
        "outputId": "1d892688-fc31-4990-ddb2-6a02ce866508"
      },
      "execution_count": null,
      "outputs": [
        {
          "output_type": "stream",
          "name": "stdout",
          "text": [
            "tensor([True, True])\n",
            "tensor([True, True])\n"
          ]
        }
      ]
    },
    {
      "cell_type": "markdown",
      "source": [
        "We can also just say gradients are 'deposited' into the parameters of the network. Note that chain rule can be done in a recursive manner manually in code and that to take a derivative we just need to use the derivatives definition which is something we can easily look up. "
      ],
      "metadata": {
        "id": "nbbdJ3Iid3UD"
      }
    },
    {
      "cell_type": "code",
      "source": [
        ""
      ],
      "metadata": {
        "id": "6Bjdjziwdj76"
      },
      "execution_count": null,
      "outputs": []
    },
    {
      "cell_type": "markdown",
      "source": [
        "It is also important to note that we need to zero out gradients when we are doing a loop because they are not over written after we run one pass of the gradients. We can do classic gradient updating manually, but there are many ways to compute efficient gradients. However if we want to do them manually we can actually make a for loop and go through the models parameters. when going through the parameters we take the .data and do the .sub_ which stands for substract in place and within the parameter of .sub_ input the learning rate as well as the .grad.data itself. However tensorflow makes this easy by giving us the torch optim api. Note that this is why torch.optim requires us to input the model parameters, as this is what it needs in order to do the special step. We zero gradients through the optimizer"
      ],
      "metadata": {
        "id": "losAptB8j1eH"
      }
    },
    {
      "cell_type": "code",
      "source": [
        "import torchvision\n",
        "import torchvision.transforms as transforms \n",
        "import numpy as np\n",
        "import matplotlib.pyplot as plt\n",
        "transform = transforms.Compose([\n",
        "                                transforms.ToTensor(),\n",
        "                                transforms.Normalize((0.5,0.5,0.5), (0.5,0.5,0.5)) #all this is doing for each of the 3 channels is normalizing accross them mean and variance\n",
        "])\n",
        "batch_size = 4\n",
        "traindata = torchvision.datasets.CIFAR10(root = '/content/drive/MyDrive/PytorchDatasets/traindata', train=True, download=True, transform = transform)\n",
        "trainloader = torch.utils.data.DataLoader(traindata, batch_size=batch_size, shuffle=True, num_workers=2)\n",
        "#Note that when we are working with custom data we use torchvision.datasets.ImageFolder() and do the same thing as above"
      ],
      "metadata": {
        "colab": {
          "base_uri": "https://localhost:8080/",
          "height": 84,
          "referenced_widgets": [
            "0c300a3d7821408384f3ac3d592881a9",
            "5bf27b6b23af4a5f885bdef54b463339",
            "8285d17b30c144da9248c02c2a7e2ea6",
            "9ad514011ba54c33a30819c4a9cd7460",
            "7de445ee4cc84665a8ac00507f4c2bb2",
            "99c7680f677e40c59990d40f54267f29",
            "d26441eb9c8f4024bb9caaed7ab710e1",
            "a9d283195ad2488eaf275b19e87861f9",
            "c728f27560fc45da84db5873f5948b50",
            "59688605758342bb8791a4d974d3add7",
            "e4fbbbacfbda4224992b6c5b1a16661d"
          ]
        },
        "id": "-rUeI1ttkRhI",
        "outputId": "037717f6-dc55-4324-b239-5d73d1cc2440"
      },
      "execution_count": 26,
      "outputs": [
        {
          "output_type": "stream",
          "name": "stdout",
          "text": [
            "Downloading https://www.cs.toronto.edu/~kriz/cifar-10-python.tar.gz to /content/drive/MyDrive/PytorchDatasets/traindata/cifar-10-python.tar.gz\n"
          ]
        },
        {
          "output_type": "display_data",
          "data": {
            "text/plain": [
              "  0%|          | 0/170498071 [00:00<?, ?it/s]"
            ],
            "application/vnd.jupyter.widget-view+json": {
              "version_major": 2,
              "version_minor": 0,
              "model_id": "0c300a3d7821408384f3ac3d592881a9"
            }
          },
          "metadata": {}
        },
        {
          "output_type": "stream",
          "name": "stdout",
          "text": [
            "Extracting /content/drive/MyDrive/PytorchDatasets/traindata/cifar-10-python.tar.gz to /content/drive/MyDrive/PytorchDatasets/traindata\n"
          ]
        }
      ]
    },
    {
      "cell_type": "code",
      "source": [
        "testdata = torchvision.datasets.CIFAR10(root = '/content/drive/MyDrive/PytorchDatasets/testdata', train=False, download=True, transform = transform)\n",
        "testloader = torch.utils.data.DataLoader(testdata, batch_size = batch_size, shuffle=True, num_workers=2)\n",
        "classes = ('plane', 'car', 'bird', 'cat', 'deer', 'dog', 'frog','horse', 'ship', 'truck')\n",
        "def imshow(image):\n",
        "  image = image/2 + 0.5\n",
        "  numpyimage = image.numpy()\n",
        "  plt.imshow(np.transpose(numpyimage, (1,2,0)))\n",
        "  plt.show()"
      ],
      "metadata": {
        "colab": {
          "base_uri": "https://localhost:8080/",
          "height": 84,
          "referenced_widgets": [
            "b5c1da8e5a964051947545ad141adaaa",
            "1ef135ca9dc34d09b06c457e0cf1d6ec",
            "346ce13e8cc4435fb0b56b3e41c1ccf0",
            "7eb60e05aab24358b0df68b5439752da",
            "ce1488221f5748229c4eb714a34ce747",
            "a0916fa0b3684674bf4d8eadcab29e2d",
            "78d2804f94b3485fb0dcb9f2893465a3",
            "751aa1d363544604a33bfe1f64095c3f",
            "68836e71478a4d80b3c5411d6c331c34",
            "830802a8b1f3492dbbb29853f448e048",
            "015a0cad41434d128e5a12bbfc8dd08e"
          ]
        },
        "id": "0c-Gojf7TnBN",
        "outputId": "f9d99c04-49c8-42a7-ad43-87d2d2683d80"
      },
      "execution_count": 27,
      "outputs": [
        {
          "output_type": "stream",
          "name": "stdout",
          "text": [
            "Downloading https://www.cs.toronto.edu/~kriz/cifar-10-python.tar.gz to /content/drive/MyDrive/PytorchDatasets/testdata/cifar-10-python.tar.gz\n"
          ]
        },
        {
          "output_type": "display_data",
          "data": {
            "text/plain": [
              "  0%|          | 0/170498071 [00:00<?, ?it/s]"
            ],
            "application/vnd.jupyter.widget-view+json": {
              "version_major": 2,
              "version_minor": 0,
              "model_id": "b5c1da8e5a964051947545ad141adaaa"
            }
          },
          "metadata": {}
        },
        {
          "output_type": "stream",
          "name": "stdout",
          "text": [
            "Extracting /content/drive/MyDrive/PytorchDatasets/testdata/cifar-10-python.tar.gz to /content/drive/MyDrive/PytorchDatasets/testdata\n"
          ]
        }
      ]
    },
    {
      "cell_type": "code",
      "source": [
        "dataiter = iter(trainloader)\n",
        "images,label = dataiter.next()\n",
        "imshow(torchvision.utils.make_grid(images))"
      ],
      "metadata": {
        "colab": {
          "base_uri": "https://localhost:8080/",
          "height": 138
        },
        "id": "eMTmdGIpTs1w",
        "outputId": "44be7e60-c726-409d-f58b-eb93b71784d2"
      },
      "execution_count": 29,
      "outputs": [
        {
          "output_type": "display_data",
          "data": {
            "text/plain": [
              "<Figure size 432x288 with 1 Axes>"
            ],
            "image/png": "[encoded data removed]"
          },
          "metadata": {
            "needs_background": "light"
          }
        }
      ]
    },
    {
      "cell_type": "code",
      "source": [
        "class Net(torch.nn.Module):\n",
        "  def __init__(self):\n",
        "    super().__init__()\n",
        "    self.conv1 = torch.nn.Conv2d(3, 6, 5)\n",
        "    self.relu1 = torch.nn.ReLU()\n",
        "    self.pool = torch.nn.MaxPool2d(2,2)\n",
        "    self.conv2 = torch.nn.Conv2d(6, 16, 5)\n",
        "    self.relu2 = torch.nn.ReLU()\n",
        "    self.fc1 = torch.nn.Linear(16 * 5 * 5, 120)\n",
        "    self.relu3 = torch.nn.ReLU()\n",
        "    self.fc2 = torch.nn.Linear(120, 84)\n",
        "    self.relu4 = torch.nn.ReLU()\n",
        "    self.fc3 = torch.nn.Linear(84, 10)\n",
        "  def forward(self, x):\n",
        "    x = self.conv1(x)\n",
        "    x = self.relu1(x)\n",
        "    x = self.pool(x)\n",
        "    x = self.conv2(x)\n",
        "    x = self.relu2(x)\n",
        "    x = self.pool(x)\n",
        "    x = torch.flatten(x, 1)\n",
        "    x = self.fc1(x)\n",
        "    x = self.relu3(x)\n",
        "    x = self.fc2(x)\n",
        "    x = self.relu4(x)\n",
        "    x = self.fc3(x)\n",
        "    return x"
      ],
      "metadata": {
        "id": "CN9U8US7T6dA"
      },
      "execution_count": 34,
      "outputs": []
    },
    {
      "cell_type": "code",
      "source": [
        "network = Net()"
      ],
      "metadata": {
        "id": "XbI1NmAHXRIv"
      },
      "execution_count": 35,
      "outputs": []
    },
    {
      "cell_type": "code",
      "source": [
        "criteria = torch.nn.CrossEntropyLoss()\n",
        "optimizer = torch.optim.SGD(network.parameters(), lr = 0.001, momentum = 0.9)"
      ],
      "metadata": {
        "id": "1t5X5N1tXWPX"
      },
      "execution_count": 36,
      "outputs": []
    },
    {
      "cell_type": "code",
      "source": [
        "for epoch in range(2):\n",
        "  current_loss = 0.0\n",
        "  for i, data in enumerate(trainloader, 0):\n",
        "    input, label = data\n",
        "    optimizer.zero_grad()\n",
        "\n",
        "    output = network(input)\n",
        "    loss = criteria(output , label).sum()\n",
        "    loss.backward()\n",
        "    optimizer.step()\n",
        "\n",
        "    current_loss += loss.item()\n",
        "    if i % 2000 == 1999:\n",
        "      print(\"Loss:\", current_loss/2000)\n",
        "      current_loss = 0"
      ],
      "metadata": {
        "colab": {
          "base_uri": "https://localhost:8080/"
        },
        "id": "440BI3qeXeph",
        "outputId": "9c8d7667-aa56-4d2f-b4f0-4f6502b9c76d"
      },
      "execution_count": 37,
      "outputs": [
        {
          "output_type": "stream",
          "name": "stdout",
          "text": [
            "Loss: 2.173913501739502\n",
            "Loss: 1.813602940708399\n",
            "Loss: 1.6234616119861602\n",
            "Loss: 1.5368494859784843\n",
            "Loss: 1.4777209176570176\n",
            "Loss: 1.4292776163741947\n",
            "Loss: 1.3847157019898295\n",
            "Loss: 1.3473273224979638\n",
            "Loss: 1.3239466520771384\n",
            "Loss: 1.284967696171254\n",
            "Loss: 1.2852985333763063\n",
            "Loss: 1.2484736872166395\n"
          ]
        }
      ]
    },
    {
      "cell_type": "code",
      "source": [
        "tensor.device"
      ],
      "metadata": {
        "colab": {
          "base_uri": "https://localhost:8080/"
        },
        "id": "Qss2s08KYOzs",
        "outputId": "8129351f-73d3-4efe-940f-232c08eb8ebb"
      },
      "execution_count": 42,
      "outputs": [
        {
          "output_type": "execute_result",
          "data": {
            "text/plain": [
              "device(type='cpu')"
            ]
          },
          "metadata": {},
          "execution_count": 42
        }
      ]
    },
    {
      "cell_type": "code",
      "source": [
        "#Note that when we are saving a model for later inference, it is only necessary we save the current parameters of the model as well as the \n",
        "#current parameters of the optimizer, we can do this via the following\n",
        "torch.save({\n",
        "    'network_model_parameters': network.state_dict(),\n",
        "    'optimizer_parameters': optimizer.state_dict(),\n",
        "}, '/content/drive/MyDrive/PytorchDatasets/parameters')"
      ],
      "metadata": {
        "id": "yFMqReMDhzsK"
      },
      "execution_count": 45,
      "outputs": []
    },
    {
      "cell_type": "code",
      "source": [
        "#Note that we need to use torch.load() to 'deserialize' the parameters from the files state\n",
        "currentcheckpoint = torch.load('/content/drive/MyDrive/PytorchDatasets/parameters')\n",
        "newnetwork = Net()\n",
        "newnetwork.load_state_dict(currentcheckpoint['network_model_parameters'])\n",
        "newoptimizer = torch.optim.SGD(newnetwork.parameters(), lr = 0.001, momentum = 0.9)\n",
        "newoptimizer.load_state_dict(currentcheckpoint['optimizer_parameters'])"
      ],
      "metadata": {
        "id": "K6Fe0B3VjfVQ"
      },
      "execution_count": 46,
      "outputs": []
    },
    {
      "cell_type": "code",
      "source": [
        "#Now this is a simple way we can save the loaded model and then do inference with these weights.\n",
        "#IT IS VERY IMPORTANT WE DO model.eval() in order to prepare the model for training. We can prepare the model to train with the .train()"
      ],
      "metadata": {
        "id": "-irk0tAxkCrD"
      },
      "execution_count": null,
      "outputs": []
    },
    {
      "cell_type": "code",
      "source": [
        "newnetwork.train()"
      ],
      "metadata": {
        "colab": {
          "base_uri": "https://localhost:8080/"
        },
        "id": "p-pPttuekgG8",
        "outputId": "b7ef3f15-5f2c-40dd-9144-5c06f28ac143"
      },
      "execution_count": 48,
      "outputs": [
        {
          "output_type": "execute_result",
          "data": {
            "text/plain": [
              "Net(\n",
              "  (conv1): Conv2d(3, 6, kernel_size=(5, 5), stride=(1, 1))\n",
              "  (relu1): ReLU()\n",
              "  (pool): MaxPool2d(kernel_size=2, stride=2, padding=0, dilation=1, ceil_mode=False)\n",
              "  (conv2): Conv2d(6, 16, kernel_size=(5, 5), stride=(1, 1))\n",
              "  (relu2): ReLU()\n",
              "  (fc1): Linear(in_features=400, out_features=120, bias=True)\n",
              "  (relu3): ReLU()\n",
              "  (fc2): Linear(in_features=120, out_features=84, bias=True)\n",
              "  (relu4): ReLU()\n",
              "  (fc3): Linear(in_features=84, out_features=10, bias=True)\n",
              ")"
            ]
          },
          "metadata": {},
          "execution_count": 48
        }
      ]
    },
    {
      "cell_type": "code",
      "source": [
        "newnetwork.eval()"
      ],
      "metadata": {
        "colab": {
          "base_uri": "https://localhost:8080/"
        },
        "id": "Cs1LRZuqkhxv",
        "outputId": "af1e387b-6037-433d-96a9-a68d61f91173"
      },
      "execution_count": 49,
      "outputs": [
        {
          "output_type": "execute_result",
          "data": {
            "text/plain": [
              "Net(\n",
              "  (conv1): Conv2d(3, 6, kernel_size=(5, 5), stride=(1, 1))\n",
              "  (relu1): ReLU()\n",
              "  (pool): MaxPool2d(kernel_size=2, stride=2, padding=0, dilation=1, ceil_mode=False)\n",
              "  (conv2): Conv2d(6, 16, kernel_size=(5, 5), stride=(1, 1))\n",
              "  (relu2): ReLU()\n",
              "  (fc1): Linear(in_features=400, out_features=120, bias=True)\n",
              "  (relu3): ReLU()\n",
              "  (fc2): Linear(in_features=120, out_features=84, bias=True)\n",
              "  (relu4): ReLU()\n",
              "  (fc3): Linear(in_features=84, out_features=10, bias=True)\n",
              ")"
            ]
          },
          "metadata": {},
          "execution_count": 49
        }
      ]
    },
    {
      "cell_type": "markdown",
      "source": [
        "Note that since we can use a dictionary to save models, we can save multiple model parameters and optimizers to the same file. There is no problem with that. Additionally when we want to use parameters from another model that does not match exactly the architecture of the model we are on, we can do the typical implementation except in the load_state_dict() function we set strict=False, and it handles that problem fr us."
      ],
      "metadata": {
        "id": "nKnfWm0Skw2b"
      }
    },
    {
      "cell_type": "markdown",
      "source": [
        "Nice introduction to pytorch, feels really good and comprehensive. The API seems excellent so far."
      ],
      "metadata": {
        "id": "XO9qwmjdl9UI"
      }
    },
    {
      "cell_type": "code",
      "source": [
        ""
      ],
      "metadata": {
        "id": "T-uzu-noklVn"
      },
      "execution_count": null,
      "outputs": []
    }
  ]
}