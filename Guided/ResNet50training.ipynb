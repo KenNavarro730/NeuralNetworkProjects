{
  "cells": [
    {
      "cell_type": "code",
      "execution_count": null,
      "metadata": {
        "id": "NkXsnMXgKbv7"
      },
      "outputs": [],
      "source": [
        "import torch"
      ]
    },
    {
      "cell_type": "code",
      "source": [
        "model = torch.hub.load('pytorch/vision:v0.10.0', 'resnet50', pretrained=False)"
      ],
      "metadata": {
        "colab": {
          "base_uri": "https://localhost:8080/"
        },
        "id": "2XDiIQ9Cm9rR",
        "outputId": "ad197512-5cb2-4ff0-b496-3f02401ae6aa"
      },
      "execution_count": null,
      "outputs": [
        {
          "output_type": "stream",
          "name": "stderr",
          "text": [
            "Downloading: \"https://github.com/pytorch/vision/archive/v0.10.0.zip\" to /root/.cache/torch/hub/v0.10.0.zip\n"
          ]
        }
      ]
    },
    {
      "cell_type": "code",
      "source": [
        "import torchvision\n",
        "import torchvision.transforms as transforms\n",
        "transformations = transforms.Compose([\n",
        "                      transforms.ToTensor(),\n",
        "                      transforms.Normalize((0.5,0.5,0.5), (0.5,0.5,0.5))\n",
        "])\n",
        "trainingdata = torchvision.datasets.CIFAR100(root = '/content/drive/MyDrive/PytorchDatasets/cifar100train', download=True, train=True, \n",
        "                                             transform =transformations)"
      ],
      "metadata": {
        "colab": {
          "base_uri": "https://localhost:8080/",
          "height": 84,
          "referenced_widgets": [
            "7f561c8607e244ab84fe27d4883f61f1",
            "47226c09928449e1a230c04a572997f2",
            "ba367ddcbd6a4ebca023b30e5955dc8f",
            "d6a1f7ff993040d181445c52214004a9",
            "eb2d69b915b94a6a8786af18ebfe3775",
            "c3d5cb7a2175495285976d1f57fb3c6b",
            "653362f8a3c746e4879bb6df16c80838",
            "b7a4b37e27d24927a7e06e9cd95892f2",
            "edc5a99da3884689ae9be8e90770904e",
            "4f54c8182511427d804e8c1178db4d78",
            "c90ac95d10064097986e4a1634d51891"
          ]
        },
        "id": "1u4NUAkXna6O",
        "outputId": "205aa0db-fcae-4a52-84db-9cc70a6a1c94"
      },
      "execution_count": 7,
      "outputs": [
        {
          "output_type": "stream",
          "name": "stdout",
          "text": [
            "Downloading https://www.cs.toronto.edu/~kriz/cifar-100-python.tar.gz to /content/drive/MyDrive/PytorchDatasets/cifar100train/cifar-100-python.tar.gz\n"
          ]
        },
        {
          "output_type": "display_data",
          "data": {
            "text/plain": [
              "  0%|          | 0/169001437 [00:00<?, ?it/s]"
            ],
            "application/vnd.jupyter.widget-view+json": {
              "version_major": 2,
              "version_minor": 0,
              "model_id": "7f561c8607e244ab84fe27d4883f61f1"
            }
          },
          "metadata": {}
        },
        {
          "output_type": "stream",
          "name": "stdout",
          "text": [
            "Extracting /content/drive/MyDrive/PytorchDatasets/cifar100train/cifar-100-python.tar.gz to /content/drive/MyDrive/PytorchDatasets/cifar100train\n"
          ]
        }
      ]
    },
    {
      "cell_type": "code",
      "source": [
        "trainingdataloader = torch.utils.data.DataLoader(trainingdata, batch_size=4, shuffle=True)"
      ],
      "metadata": {
        "id": "u3X0MxFPnobp"
      },
      "execution_count": 8,
      "outputs": []
    },
    {
      "cell_type": "code",
      "source": [
        "#Now we have our data and our model ready, lets setup our optimizer and additionally give this model a warm start\n",
        "optimizer = torch.optim.SGD(model.parameters(), lr=0.001, momentum = 0.9)"
      ],
      "metadata": {
        "id": "UjHmS6qkpmCl"
      },
      "execution_count": 11,
      "outputs": []
    },
    {
      "cell_type": "code",
      "source": [
        "loss = torch.nn.CrossEntropyLoss()"
      ],
      "metadata": {
        "id": "QhIIxhX0rNQp"
      },
      "execution_count": 12,
      "outputs": []
    },
    {
      "cell_type": "code",
      "source": [
        "epochs = 3\n",
        "for i in range(epochs):\n",
        "  current_loss = 0.0\n",
        "  for i, values in enumerate(trainingdataloader, 0):\n",
        "    input, label = values\n",
        "    optimizer.zero_grad()\n",
        "    output = model(input)\n",
        "    currentloss = loss(output, label)\n",
        "    currentloss.sum().backward()\n",
        "    optimizer.step()\n",
        "    current_loss += currentloss.item()\n",
        "    if i % 1000 == 999:\n",
        "      print(\"Loss\", current_loss)"
      ],
      "metadata": {
        "colab": {
          "base_uri": "https://localhost:8080/"
        },
        "id": "7GDh75YGqT_g",
        "outputId": "41abc120-4b22-4ff7-f9bc-2c0510e4d472"
      },
      "execution_count": 13,
      "outputs": [
        {
          "output_type": "stream",
          "name": "stdout",
          "text": [
            "Loss 7890.215238332748\n",
            "Loss 14874.173001766205\n",
            "Loss 21477.83443593979\n",
            "Loss 27766.73204278946\n",
            "Loss 33782.640256643295\n",
            "Loss 39675.47841048241\n",
            "Loss 45424.96723270416\n",
            "Loss 51113.74158620834\n",
            "Loss 56709.33858084679\n",
            "Loss 62249.67599725723\n",
            "Loss 67679.74212098122\n",
            "Loss 73068.25596880913\n",
            "Loss 5333.74666929245\n",
            "Loss 10673.496616363525\n",
            "Loss 15993.432498693466\n",
            "Loss 21231.14489841461\n",
            "Loss 26397.60745692253\n",
            "Loss 31534.15717458725\n",
            "Loss 36603.67742228508\n",
            "Loss 41642.33280706406\n",
            "Loss 46629.20838022232\n",
            "Loss 51556.56158494949\n",
            "Loss 56455.71058320999\n",
            "Loss 61308.420199632645\n",
            "Loss 4806.060073852539\n",
            "Loss 9593.245388507843\n",
            "Loss 14352.872811317444\n",
            "Loss 19092.551716566086\n",
            "Loss 23838.717619657516\n",
            "Loss 28547.668568372726\n",
            "Loss 33254.92095899582\n",
            "Loss 37953.37875843048\n",
            "Loss 42612.62496256828\n",
            "Loss 47317.17557263374\n",
            "Loss 52000.8707921505\n",
            "Loss 56669.82320523262\n"
          ]
        }
      ]
    },
    {
      "cell_type": "code",
      "source": [
        "torch.save({\n",
        "    'resnet50parameterscifar100': model.state_dict(),\n",
        "    'resnet50optimizerparameters': optimizer.state_dict()\n",
        "}, '/content/drive/MyDrive/PytorchDatasets/parameters')"
      ],
      "metadata": {
        "id": "HkD66LOjsKGZ"
      },
      "execution_count": 14,
      "outputs": []
    },
    {
      "cell_type": "markdown",
      "source": [
        "Now we have the model trained and its weights saved as well as its optimizer information saved."
      ],
      "metadata": {
        "id": "PefnWx0YOvGb"
      }
    },
    {
      "cell_type": "code",
      "source": [
        "#"
      ],
      "metadata": {
        "id": "Y0CzxjtqOtYx"
      },
      "execution_count": null,
      "outputs": []
    }
  ],
  "metadata": {
    "accelerator": "GPU",
    "colab": {
      "machine_shape": "hm",
      "name": "ResNet50training.ipynb",
      "provenance": []
    },
    "kernelspec": {
      "display_name": "Python 3",
      "name": "python3"
    },
    "language_info": {
      "name": "python"
    },
    "widgets": {
      "application/vnd.jupyter.widget-state+json": {
        "7f561c8607e244ab84fe27d4883f61f1": {
          "model_module": "@jupyter-widgets/controls",
          "model_name": "HBoxModel",
          "model_module_version": "1.5.0",
          "state": {
            "_dom_classes": [],
            "_model_module": "@jupyter-widgets/controls",
            "_model_module_version": "1.5.0",
            "_model_name": "HBoxModel",
            "_view_count": null,
            "_view_module": "@jupyter-widgets/controls",
            "_view_module_version": "1.5.0",
            "_view_name": "HBoxView",
            "box_style": "",
            "children": [
              "IPY_MODEL_47226c09928449e1a230c04a572997f2",
              "IPY_MODEL_ba367ddcbd6a4ebca023b30e5955dc8f",
              "IPY_MODEL_d6a1f7ff993040d181445c52214004a9"
            ],
            "layout": "IPY_MODEL_eb2d69b915b94a6a8786af18ebfe3775"
          }
        },
        "47226c09928449e1a230c04a572997f2": {
          "model_module": "@jupyter-widgets/controls",
          "model_name": "HTMLModel",
          "model_module_version": "1.5.0",
          "state": {
            "_dom_classes": [],
            "_model_module": "@jupyter-widgets/controls",
            "_model_module_version": "1.5.0",
            "_model_name": "HTMLModel",
            "_view_count": null,
            "_view_module": "@jupyter-widgets/controls",
            "_view_module_version": "1.5.0",
            "_view_name": "HTMLView",
            "description": "",
            "description_tooltip": null,
            "layout": "IPY_MODEL_c3d5cb7a2175495285976d1f57fb3c6b",
            "placeholder": "​",
            "style": "IPY_MODEL_653362f8a3c746e4879bb6df16c80838",
            "value": ""
          }
        },
        "ba367ddcbd6a4ebca023b30e5955dc8f": {
          "model_module": "@jupyter-widgets/controls",
          "model_name": "FloatProgressModel",
          "model_module_version": "1.5.0",
          "state": {
            "_dom_classes": [],
            "_model_module": "@jupyter-widgets/controls",
            "_model_module_version": "1.5.0",
            "_model_name": "FloatProgressModel",
            "_view_count": null,
            "_view_module": "@jupyter-widgets/controls",
            "_view_module_version": "1.5.0",
            "_view_name": "ProgressView",
            "bar_style": "success",
            "description": "",
            "description_tooltip": null,
            "layout": "IPY_MODEL_b7a4b37e27d24927a7e06e9cd95892f2",
            "max": 169001437,
            "min": 0,
            "orientation": "horizontal",
            "style": "IPY_MODEL_edc5a99da3884689ae9be8e90770904e",
            "value": 169001437
          }
        },
        "d6a1f7ff993040d181445c52214004a9": {
          "model_module": "@jupyter-widgets/controls",
          "model_name": "HTMLModel",
          "model_module_version": "1.5.0",
          "state": {
            "_dom_classes": [],
            "_model_module": "@jupyter-widgets/controls",
            "_model_module_version": "1.5.0",
            "_model_name": "HTMLModel",
            "_view_count": null,
            "_view_module": "@jupyter-widgets/controls",
            "_view_module_version": "1.5.0",
            "_view_name": "HTMLView",
            "description": "",
            "description_tooltip": null,
            "layout": "IPY_MODEL_4f54c8182511427d804e8c1178db4d78",
            "placeholder": "​",
            "style": "IPY_MODEL_c90ac95d10064097986e4a1634d51891",
            "value": " 169001984/? [00:04&lt;00:00, 55240684.67it/s]"
          }
        },
        "eb2d69b915b94a6a8786af18ebfe3775": {
          "model_module": "@jupyter-widgets/base",
          "model_name": "LayoutModel",
          "model_module_version": "1.2.0",
          "state": {
            "_model_module": "@jupyter-widgets/base",
            "_model_module_version": "1.2.0",
            "_model_name": "LayoutModel",
            "_view_count": null,
            "_view_module": "@jupyter-widgets/base",
            "_view_module_version": "1.2.0",
            "_view_name": "LayoutView",
            "align_content": null,
            "align_items": null,
            "align_self": null,
            "border": null,
            "bottom": null,
            "display": null,
            "flex": null,
            "flex_flow": null,
            "grid_area": null,
            "grid_auto_columns": null,
            "grid_auto_flow": null,
            "grid_auto_rows": null,
            "grid_column": null,
            "grid_gap": null,
            "grid_row": null,
            "grid_template_areas": null,
            "grid_template_columns": null,
            "grid_template_rows": null,
            "height": null,
            "justify_content": null,
            "justify_items": null,
            "left": null,
            "margin": null,
            "max_height": null,
            "max_width": null,
            "min_height": null,
            "min_width": null,
            "object_fit": null,
            "object_position": null,
            "order": null,
            "overflow": null,
            "overflow_x": null,
            "overflow_y": null,
            "padding": null,
            "right": null,
            "top": null,
            "visibility": null,
            "width": null
          }
        },
        "c3d5cb7a2175495285976d1f57fb3c6b": {
          "model_module": "@jupyter-widgets/base",
          "model_name": "LayoutModel",
          "model_module_version": "1.2.0",
          "state": {
            "_model_module": "@jupyter-widgets/base",
            "_model_module_version": "1.2.0",
            "_model_name": "LayoutModel",
            "_view_count": null,
            "_view_module": "@jupyter-widgets/base",
            "_view_module_version": "1.2.0",
            "_view_name": "LayoutView",
            "align_content": null,
            "align_items": null,
            "align_self": null,
            "border": null,
            "bottom": null,
            "display": null,
            "flex": null,
            "flex_flow": null,
            "grid_area": null,
            "grid_auto_columns": null,
            "grid_auto_flow": null,
            "grid_auto_rows": null,
            "grid_column": null,
            "grid_gap": null,
            "grid_row": null,
            "grid_template_areas": null,
            "grid_template_columns": null,
            "grid_template_rows": null,
            "height": null,
            "justify_content": null,
            "justify_items": null,
            "left": null,
            "margin": null,
            "max_height": null,
            "max_width": null,
            "min_height": null,
            "min_width": null,
            "object_fit": null,
            "object_position": null,
            "order": null,
            "overflow": null,
            "overflow_x": null,
            "overflow_y": null,
            "padding": null,
            "right": null,
            "top": null,
            "visibility": null,
            "width": null
          }
        },
        "653362f8a3c746e4879bb6df16c80838": {
          "model_module": "@jupyter-widgets/controls",
          "model_name": "DescriptionStyleModel",
          "model_module_version": "1.5.0",
          "state": {
            "_model_module": "@jupyter-widgets/controls",
            "_model_module_version": "1.5.0",
            "_model_name": "DescriptionStyleModel",
            "_view_count": null,
            "_view_module": "@jupyter-widgets/base",
            "_view_module_version": "1.2.0",
            "_view_name": "StyleView",
            "description_width": ""
          }
        },
        "b7a4b37e27d24927a7e06e9cd95892f2": {
          "model_module": "@jupyter-widgets/base",
          "model_name": "LayoutModel",
          "model_module_version": "1.2.0",
          "state": {
            "_model_module": "@jupyter-widgets/base",
            "_model_module_version": "1.2.0",
            "_model_name": "LayoutModel",
            "_view_count": null,
            "_view_module": "@jupyter-widgets/base",
            "_view_module_version": "1.2.0",
            "_view_name": "LayoutView",
            "align_content": null,
            "align_items": null,
            "align_self": null,
            "border": null,
            "bottom": null,
            "display": null,
            "flex": null,
            "flex_flow": null,
            "grid_area": null,
            "grid_auto_columns": null,
            "grid_auto_flow": null,
            "grid_auto_rows": null,
            "grid_column": null,
            "grid_gap": null,
            "grid_row": null,
            "grid_template_areas": null,
            "grid_template_columns": null,
            "grid_template_rows": null,
            "height": null,
            "justify_content": null,
            "justify_items": null,
            "left": null,
            "margin": null,
            "max_height": null,
            "max_width": null,
            "min_height": null,
            "min_width": null,
            "object_fit": null,
            "object_position": null,
            "order": null,
            "overflow": null,
            "overflow_x": null,
            "overflow_y": null,
            "padding": null,
            "right": null,
            "top": null,
            "visibility": null,
            "width": null
          }
        },
        "edc5a99da3884689ae9be8e90770904e": {
          "model_module": "@jupyter-widgets/controls",
          "model_name": "ProgressStyleModel",
          "model_module_version": "1.5.0",
          "state": {
            "_model_module": "@jupyter-widgets/controls",
            "_model_module_version": "1.5.0",
            "_model_name": "ProgressStyleModel",
            "_view_count": null,
            "_view_module": "@jupyter-widgets/base",
            "_view_module_version": "1.2.0",
            "_view_name": "StyleView",
            "bar_color": null,
            "description_width": ""
          }
        },
        "4f54c8182511427d804e8c1178db4d78": {
          "model_module": "@jupyter-widgets/base",
          "model_name": "LayoutModel",
          "model_module_version": "1.2.0",
          "state": {
            "_model_module": "@jupyter-widgets/base",
            "_model_module_version": "1.2.0",
            "_model_name": "LayoutModel",
            "_view_count": null,
            "_view_module": "@jupyter-widgets/base",
            "_view_module_version": "1.2.0",
            "_view_name": "LayoutView",
            "align_content": null,
            "align_items": null,
            "align_self": null,
            "border": null,
            "bottom": null,
            "display": null,
            "flex": null,
            "flex_flow": null,
            "grid_area": null,
            "grid_auto_columns": null,
            "grid_auto_flow": null,
            "grid_auto_rows": null,
            "grid_column": null,
            "grid_gap": null,
            "grid_row": null,
            "grid_template_areas": null,
            "grid_template_columns": null,
            "grid_template_rows": null,
            "height": null,
            "justify_content": null,
            "justify_items": null,
            "left": null,
            "margin": null,
            "max_height": null,
            "max_width": null,
            "min_height": null,
            "min_width": null,
            "object_fit": null,
            "object_position": null,
            "order": null,
            "overflow": null,
            "overflow_x": null,
            "overflow_y": null,
            "padding": null,
            "right": null,
            "top": null,
            "visibility": null,
            "width": null
          }
        },
        "c90ac95d10064097986e4a1634d51891": {
          "model_module": "@jupyter-widgets/controls",
          "model_name": "DescriptionStyleModel",
          "model_module_version": "1.5.0",
          "state": {
            "_model_module": "@jupyter-widgets/controls",
            "_model_module_version": "1.5.0",
            "_model_name": "DescriptionStyleModel",
            "_view_count": null,
            "_view_module": "@jupyter-widgets/base",
            "_view_module_version": "1.2.0",
            "_view_name": "StyleView",
            "description_width": ""
          }
        }
      }
    }
  },
  "nbformat": 4,
  "nbformat_minor": 0
}